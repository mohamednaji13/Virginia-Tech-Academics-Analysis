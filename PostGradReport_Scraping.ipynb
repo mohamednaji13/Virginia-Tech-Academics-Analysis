{
 "cells": [
  {
   "cell_type": "code",
   "execution_count": null,
   "metadata": {
    "pycharm": {
     "name": "#%%\n"
    }
   },
   "outputs": [],
   "source": [
    "import requests\n",
    "from bs4 import BeautifulSoup\n",
    "import time"
   ]
  },
  {
   "cell_type": "code",
   "execution_count": null,
   "metadata": {
    "pycharm": {
     "name": "#%%\n"
    }
   },
   "outputs": [],
   "source": [
    "url = \"https://fds.career.vt.edu\"\n",
    "response = requests.get(url + \"/Results?cohort=2019-2020\")\n"
   ]
  },
  {
   "cell_type": "code",
   "execution_count": null,
   "metadata": {
    "pycharm": {
     "name": "#%%\n"
    }
   },
   "outputs": [],
   "source": [
    "soup = BeautifulSoup(response.text, 'html.parser')\n",
    "university_2020 = url + soup.h2.a[\"href\"]\n",
    "university_2020"
   ]
  },
  {
   "cell_type": "code",
   "execution_count": null,
   "metadata": {
    "pycharm": {
     "name": "#%%\n"
    }
   },
   "outputs": [],
   "source": [
    "response2020 = requests.get(university_2020)\n",
    "soup2020 = BeautifulSoup(response2020.text)\n",
    "information = soup2020.find_all('td')\n",
    "total_grads = int(information[1].text)\n",
    "total_grads"
   ]
  },
  {
   "cell_type": "code",
   "execution_count": null,
   "metadata": {
    "pycharm": {
     "name": "#%%\n"
    }
   },
   "outputs": [],
   "source": [
    "graduate_n_responded = int(information[4].text)\n",
    "graduate_percent_responded = graduate_n_responded / total_grads\n",
    "graduate_percent_responded"
   ]
  },
  {
   "cell_type": "code",
   "execution_count": null,
   "metadata": {
    "pycharm": {
     "name": "#%%\n"
    }
   },
   "outputs": [],
   "source": [
    "# Where graduates ended up after graduation 6 months later\n",
    "graduate_working = int(information[10].text)\n",
    "graduate_military = int(information[13].text)\n",
    "graduate_volunteering = int(information[16].text)\n",
    "graduate_learning = int(information[19].text)\n",
    "graduate_fellowship = int(information[22].text)\n",
    "graduate_seeking_working = int(information[25].text)\n",
    "graduate_seeking_learning = int(information[28].text)\n",
    "graduate_not_seeking = int(information[31].text)\n",
    "\n",
    "pd.Series({\n",
    "    \"Number of graduates\": total_grads,\n",
    "    \"Number of graduates that responded\": graduate_n_responded,\n",
    "    \"% Graduates that responded\": graduate_percent_responded * 100,\n",
    "    \"Number of graduates that responded that are working\": graduate_working,\n",
    "    \"% Graduates that responded that are working\": graduate_working / graduate_n_responded * 100,\n",
    "    \"Number of graduates that responded that are military\": graduate_military,\n",
    "    \"% Graduates that responded that are military\": graduate_military / graduate_n_responded * 100,\n",
    "    \"Number of graduates that responded that are volunteering\": graduate_volunteering,\n",
    "    \"% Graduates that responded that are volunteering\": graduate_volunteering / graduate_n_responded * 100,\n",
    "    \"Number of graduates that responded that are pursuing higher education\": graduate_learning,\n",
    "    \"% Graduates that responded that are pursuing higher education\": graduate_learning / graduate_n_responded * 100,\n",
    "    \"Number of graduates that responded that are doing a fellowship\": graduate_fellowship,\n",
    "    \"% Graduates that responded that are doing a fellowship\": graduate_fellowship / graduate_n_responded * 100,\n",
    "    \"Number of graduates that responded that are seeking work\": graduate_seeking_working,\n",
    "    \"% Graduates that responded that are seeking work\": graduate_seeking_working / graduate_n_responded * 100,\n",
    "    \"Number of graduates that responded that are seeking higher education\": graduate_seeking_learning,\n",
    "    \"% Graduates that responded that are seeking higher education\": graduate_seeking_learning / graduate_n_responded * 100,\n",
    "    \"Number of graduates that responded that are not seeking\": graduate_not_seeking,\n",
    "    \"% Graduates that responded that are not seeking\": graduate_not_seeking / graduate_n_responded * 100\n",
    "})"
   ]
  },
  {
   "cell_type": "code",
   "execution_count": null,
   "metadata": {
    "pycharm": {
     "name": "#%%\n"
    }
   },
   "outputs": [],
   "source": [
    "graduate_one_offer = int(information[108].text)\n",
    "graduate_two_offer = int(information[111].text)\n",
    "graduate_three_offer = int(information[114].text)\n",
    "graduate_four_offer = int(information[117].text)\n",
    "graduate_fiveplus_offer = int(information[120].text)\n",
    "\n",
    "pd.Series({\n",
    "    \"Number of graduates with one job offer\": graduate_one_offer,\n",
    "    \"% Graduates with one job offer\": graduate_one_offer / graduate_working * 100,\n",
    "    \"Number of graduates with two job offers\": graduate_two_offer,\n",
    "    \"% Graduates with two job offers\": graduate_two_offer / graduate_working * 100,\n",
    "    \"Number of graduates with three job offers\": graduate_three_offer,\n",
    "    \"% Graduates with three job offers\": graduate_three_offer / graduate_working * 100,\n",
    "    \"Number of graduates with four job offers\": graduate_four_offer,\n",
    "    \"% Graduates with four job offers\": graduate_four_offer / graduate_working * 100,\n",
    "    \"Number of graduates with five or more job offers\": graduate_fiveplus_offer,\n",
    "    \"% Graduates with five or more job offers\": graduate_fiveplus_offer / graduate_working * 100\n",
    "})"
   ]
  },
  {
   "cell_type": "code",
   "execution_count": null,
   "metadata": {
    "pycharm": {
     "name": "#%%\n"
    }
   },
   "outputs": [],
   "source": [
    "url = \"https://fds.career.vt.edu\"\n",
    "url_by_year = [\"/Results?cohort=2019-2020\", \"/Results?cohort=2018-2019\"]\n",
    "year_for_columns = [\"2019-2020\", \"2018-2019\"]\n",
    "graduate_future_plans_by_year = pd.DataFrame(columns=[\"Number of graduates\", \"Number of graduates that responded\",\n",
    "                                                \"% Graduates that responded\",\n",
    "                                                \"Number of graduates that responded that are working\",\n",
    "                                                \"% Graduates that responded that are working\",\n",
    "                                                \"Number of graduates that responded that are military\",\n",
    "                                                \"% Graduates that responded that are military\",\n",
    "                                                \"Number of graduates that responded that are volunteering\",\n",
    "                                                \"% Graduates that responded that are volunteering\",\n",
    "                                                \"Number of graduates that responded that are pursuing higher education\",\n",
    "                                                \"% Graduates that responded that are pursuing higher education\",\n",
    "                                                \"Number of graduates that responded that are doing a fellowship\",\n",
    "                                                \"% Graduates that responded that are doing a fellowship\",\n",
    "                                                \"Number of graduates that responded that are seeking work\",\n",
    "                                                \"% Graduates that responded that are seeking work\",\n",
    "                                                \"Number of graduates that responded that are seeking higher education\",\n",
    "                                                \"% Graduates that responded that are seeking higher education\",\n",
    "                                                \"Number of graduates that responded that are not seeking\",\n",
    "                                                \"% Graduates that responded that are not seeking\"])\n",
    "graduate_job_offers_by_year = pd.DataFrame(columns=[\"Number of graduates with one job offer\",\n",
    "                                                   \"% Graduates with one job offer\",\n",
    "                                                   \"Number of graduates with two job offers\",\n",
    "                                                   \"% Graduates with two job offers\",\n",
    "                                                   \"Number of graduates with three job offers\",\n",
    "                                                   \"% Graduates with three job offers\",\n",
    "                                                   \"Number of graduates with four job offers\",\n",
    "                                                   \"% Graduates with four job offers\",\n",
    "                                                   \"Number of graduates with five or more job offers\",\n",
    "                                                   \"% Graduates with five or more job offers\"])\n",
    "for i in range(len(url_by_year)):\n",
    "    # Obtain base url of data from that year\n",
    "    response = requests.get(url + url_by_year[i])\n",
    "    soup = BeautifulSoup(response.text, 'html.parser')\n",
    "\n",
    "    # Obtain university wide data for that year\n",
    "    university_data = url + soup.h2.a[\"href\"]\n",
    "    response_university = requests.get(university_data)\n",
    "    soup_university = BeautifulSoup(response_university.text)\n",
    "\n",
    "    # Obtain relevant information regarding the graduate future plans\n",
    "    information = soup_university.find_all('td')\n",
    "    total_grads = int(information[1].text)\n",
    "    graduate_n_responded = int(information[4].text)\n",
    "    graduate_percent_responded = graduate_n_responded / total_grads\n",
    "\n",
    "    # Where graduates ended up after graduation 6 months later\n",
    "    graduate_working = int(information[10].text)\n",
    "    graduate_military = int(information[13].text)\n",
    "    graduate_volunteering = int(information[16].text)\n",
    "    graduate_learning = int(information[19].text)\n",
    "    graduate_fellowship = int(information[22].text)\n",
    "    graduate_seeking_working = int(information[25].text)\n",
    "    graduate_seeking_learning = int(information[28].text)\n",
    "    graduate_not_seeking = int(information[31].text)\n",
    "\n",
    "    graduate_future_plans_by_year.loc[year_for_columns[i]] = pd.Series({\n",
    "        \"Number of graduates\": total_grads,\n",
    "        \"Number of graduates that responded\": graduate_n_responded,\n",
    "        \"% Graduates that responded\": graduate_percent_responded * 100,\n",
    "        \"Number of graduates that responded that are working\": graduate_working,\n",
    "        \"% Graduates that responded that are working\": graduate_working / graduate_n_responded * 100,\n",
    "        \"Number of graduates that responded that are military\": graduate_military,\n",
    "        \"% Graduates that responded that are military\": graduate_military / graduate_n_responded * 100,\n",
    "        \"Number of graduates that responded that are volunteering\": graduate_volunteering,\n",
    "        \"% Graduates that responded that are volunteering\": graduate_volunteering / graduate_n_responded * 100,\n",
    "        \"Number of graduates that responded that are pursuing higher education\": graduate_learning,\n",
    "        \"% Graduates that responded that are pursuing higher education\": graduate_learning / graduate_n_responded * 100,\n",
    "        \"Number of graduates that responded that are doing a fellowship\": graduate_fellowship,\n",
    "        \"% Graduates that responded that are doing a fellowship\": graduate_fellowship / graduate_n_responded * 100,\n",
    "        \"Number of graduates that responded that are seeking work\": graduate_seeking_working,\n",
    "        \"% Graduates that responded that are seeking work\": graduate_seeking_working / graduate_n_responded * 100,\n",
    "        \"Number of graduates that responded that are seeking higher education\": graduate_seeking_learning,\n",
    "        \"% Graduates that responded that are seeking higher education\": graduate_seeking_learning / graduate_n_responded * 100,\n",
    "        \"Number of graduates that responded that are not seeking\": graduate_not_seeking,\n",
    "        \"% Graduates that responded that are not seeking\": graduate_not_seeking / graduate_n_responded * 100\n",
    "    })\n",
    "\n",
    "    # Obtain information regarding the job market for graduates\n",
    "    graduate_one_offer = int(information[108].text)\n",
    "    graduate_two_offer = int(information[111].text)\n",
    "    graduate_three_offer = int(information[114].text)\n",
    "    graduate_four_offer = int(information[117].text)\n",
    "    graduate_fiveplus_offer = int(information[120].text)\n",
    "\n",
    "    graduate_job_offers_by_year.loc[year_for_columns[i]] = pd.Series({\n",
    "        \"Number of graduates with one job offer\": graduate_one_offer,\n",
    "        \"% Graduates with one job offer\": graduate_one_offer / graduate_working * 100,\n",
    "        \"Number of graduates with two job offers\": graduate_two_offer,\n",
    "        \"% Graduates with two job offers\": graduate_two_offer / graduate_working * 100,\n",
    "        \"Number of graduates with three job offers\": graduate_three_offer,\n",
    "        \"% Graduates with three job offers\": graduate_three_offer / graduate_working * 100,\n",
    "        \"Number of graduates with four job offers\": graduate_four_offer,\n",
    "        \"% Graduates with four job offers\": graduate_four_offer / graduate_working * 100,\n",
    "        \"Number of graduates with five or more job offers\": graduate_fiveplus_offer,\n",
    "        \"% Graduates with five or more job offers\": graduate_fiveplus_offer / graduate_working * 100\n",
    "    })\n",
    "\n",
    "    # Wait 2 seconds between requests as good practice to not overload servers\n",
    "    time.sleep(2)"
   ]
  },
  {
   "cell_type": "code",
   "execution_count": null,
   "metadata": {
    "pycharm": {
     "name": "#%%\n"
    }
   },
   "outputs": [],
   "source": [
    "# Since\n",
    "url = \"https://fds.career.vt.edu\"\n",
    "url_by_year = [\"/ResultsByMajor?cohort=2017-2018\",\n",
    "              \"/ResultsByMajor?cohort=2016-2017\", \"/ResultsByMajor?cohort=2015-2016\", \"/ResultsByMajor?cohort=2014-2015\",\n",
    "              \"/ResultsByMajor?cohort=2013-2014\"]\n",
    "year_for_columns = [\"2017-2018\", \"2016-2017\", \"2015-2016\", \"2014-2015\", \"2013-2014\"]\n",
    "# graduate_future_plans_by_year = pd.DataFrame(columns=[\"Number of graduates\", \"Number of graduates that responded\",\n",
    "#                                                 \"% Graduates that responded\",\n",
    "#                                                 \"Number of graduates that responded that are working\",\n",
    "#                                                 \"% Graduates that responded that are working\",\n",
    "#                                                 \"Number of graduates that responded that are military\",\n",
    "#                                                 \"% Graduates that responded that are military\",\n",
    "#                                                 \"Number of graduates that responded that are volunteering\",\n",
    "#                                                 \"% Graduates that responded that are volunteering\",\n",
    "#                                                 \"Number of graduates that responded that are pursuing higher education\",\n",
    "#                                                 \"% Graduates that responded that are pursuing higher education\",\n",
    "#                                                 \"Number of graduates that responded that are doing a fellowship\",\n",
    "#                                                 \"% Graduates that responded that are doing a fellowship\",\n",
    "#                                                 \"Number of graduates that responded that are seeking work\",\n",
    "#                                                 \"% Graduates that responded that are seeking work\",\n",
    "#                                                 \"Number of graduates that responded that are seeking higher education\",\n",
    "#                                                 \"% Graduates that responded that are seeking higher education\",\n",
    "#                                                 \"Number of graduates that responded that are not seeking\",\n",
    "#                                                 \"% Graduates that responded that are not seeking\"])\n",
    "# graduate_job_offers_by_year = pd.DataFrame(columns=[\"Number of graduates with one job offer\",\n",
    "#                                                    \"% Graduates with one job offer\",\n",
    "#                                                    \"Number of graduates with two job offers\",\n",
    "#                                                    \"% Graduates with two job offers\",\n",
    "#                                                    \"Number of graduates with three job offers\",\n",
    "#                                                    \"% Graduates with three job offers\",\n",
    "#                                                    \"Number of graduates with four job offers\",\n",
    "#                                                    \"% Graduates with four job offers\",\n",
    "#                                                    \"Number of graduates with five or more job offers\",\n",
    "#                                                    \"% Graduates with five or more job offers\"])\n",
    "for i in range(len(url_by_year)):\n",
    "    # Obtain base url of data from that year\n",
    "    response = requests.get(url + url_by_year[i])\n",
    "    soup = BeautifulSoup(response.text, 'html.parser')\n",
    "\n",
    "    # Obtain university wide data for that year\n",
    "    university_data = url + soup.h2.a[\"href\"]\n",
    "    response_university = requests.get(university_data)\n",
    "    soup_university = BeautifulSoup(response_university.text)\n",
    "\n",
    "    # Obtain relevant information regarding the graduate future plans\n",
    "    information = soup_university.find_all('td')\n",
    "    total_grads = int(information[0].text)\n",
    "    graduate_n_responded = int(information[3].text)\n",
    "    graduate_percent_responded = graduate_n_responded / total_grads\n",
    "\n",
    "    # Where graduates ended up after graduation 6 months later\n",
    "    graduate_working = int(information[94].text)\n",
    "    graduate_military = int(information[20].text)\n",
    "    graduate_volunteering = int(information[23].text)\n",
    "    graduate_learning = int(information[41].text)\n",
    "\n",
    "    # This is NaN since this data is not available for these years\n",
    "    graduate_fellowship = np.nan\n",
    "\n",
    "    # The following includes: \"Have job offer(s), but undecided on accepting.\",\n",
    "    # \"Seeking employment, but don't yet have a job offer.\", \"Both seeking employment and applying to continue education.\"\n",
    "    graduate_seeking_working = int(information[32].text) + int(information[35].text) + int(information[47].text)\n",
    "\n",
    "    # The following includes: \"Plan to continue education, but details not firm yet.\" and\n",
    "    # \"Both seeking employment and applying to continue education.\"\n",
    "    graduate_seeking_learning = int(information[44].text) + int(information[47].text)\n",
    "\n",
    "    # The following includes: \"Plan to seek employment later.\" and\n",
    "    # \"Other having nothing to do with employment or continued education.\"\n",
    "    graduate_not_seeking = int(information[38].text) + int(information[50].text)\n",
    "\n",
    "    graduate_future_plans_by_year.loc[year_for_columns[i]] = pd.Series({\n",
    "        \"Number of graduates\": total_grads,\n",
    "        \"Number of graduates that responded\": graduate_n_responded,\n",
    "        \"% Graduates that responded\": graduate_percent_responded * 100,\n",
    "        \"Number of graduates that responded that are working\": graduate_working,\n",
    "        \"% Graduates that responded that are working\": graduate_working / graduate_n_responded * 100,\n",
    "        \"Number of graduates that responded that are military\": graduate_military,\n",
    "        \"% Graduates that responded that are military\": graduate_military / graduate_n_responded * 100,\n",
    "        \"Number of graduates that responded that are volunteering\": graduate_volunteering,\n",
    "        \"% Graduates that responded that are volunteering\": graduate_volunteering / graduate_n_responded * 100,\n",
    "        \"Number of graduates that responded that are pursuing higher education\": graduate_learning,\n",
    "        \"% Graduates that responded that are pursuing higher education\": graduate_learning / graduate_n_responded * 100,\n",
    "        \"Number of graduates that responded that are doing a fellowship\": graduate_fellowship,\n",
    "        \"% Graduates that responded that are doing a fellowship\": graduate_fellowship / graduate_n_responded * 100,\n",
    "        \"Number of graduates that responded that are seeking work\": graduate_seeking_working,\n",
    "        \"% Graduates that responded that are seeking work\": graduate_seeking_working / graduate_n_responded * 100,\n",
    "        \"Number of graduates that responded that are seeking higher education\": graduate_seeking_learning,\n",
    "        \"% Graduates that responded that are seeking higher education\": graduate_seeking_learning / graduate_n_responded * 100,\n",
    "        \"Number of graduates that responded that are not seeking\": graduate_not_seeking,\n",
    "        \"% Graduates that responded that are not seeking\": graduate_not_seeking / graduate_n_responded * 100\n",
    "    })\n",
    "\n",
    "    # Obtain information regarding the job market for graduates\n",
    "    graduate_one_offer = int(information[247].text)\n",
    "    graduate_two_offer = int(information[250].text)\n",
    "    graduate_three_offer = int(information[253].text)\n",
    "    graduate_four_offer = int(information[256].text)\n",
    "    graduate_fiveplus_offer = int(information[259].text)\n",
    "\n",
    "    graduate_job_offers_by_year.loc[year_for_columns[i]] = pd.Series({\n",
    "        \"Number of graduates with one job offer\": graduate_one_offer,\n",
    "        \"% Graduates with one job offer\": graduate_one_offer / graduate_working * 100,\n",
    "        \"Number of graduates with two job offers\": graduate_two_offer,\n",
    "        \"% Graduates with two job offers\": graduate_two_offer / graduate_working * 100,\n",
    "        \"Number of graduates with three job offers\": graduate_three_offer,\n",
    "        \"% Graduates with three job offers\": graduate_three_offer / graduate_working * 100,\n",
    "        \"Number of graduates with four job offers\": graduate_four_offer,\n",
    "        \"% Graduates with four job offers\": graduate_four_offer / graduate_working * 100,\n",
    "        \"Number of graduates with five or more job offers\": graduate_fiveplus_offer,\n",
    "        \"% Graduates with five or more job offers\": graduate_fiveplus_offer / graduate_working * 100\n",
    "    })\n",
    "\n",
    "    # Wait 2 seconds between requests as good practice to not overload servers\n",
    "    time.sleep(2)"
   ]
  },
  {
   "cell_type": "code",
   "execution_count": null,
   "metadata": {
    "pycharm": {
     "name": "#%%\n"
    }
   },
   "outputs": [],
   "source": [
    "graduate_future_plans_by_year"
   ]
  },
  {
   "cell_type": "code",
   "execution_count": null,
   "metadata": {
    "pycharm": {
     "name": "#%%\n"
    }
   },
   "outputs": [],
   "source": [
    "graduate_job_offers_by_year"
   ]
  }
 ],
 "metadata": {
  "kernelspec": {
   "display_name": "Python 3",
   "language": "python",
   "name": "python3"
  },
  "language_info": {
   "codemirror_mode": {
    "name": "ipython",
    "version": 2
   },
   "file_extension": ".py",
   "mimetype": "text/x-python",
   "name": "python",
   "nbconvert_exporter": "python",
   "pygments_lexer": "ipython2",
   "version": "2.7.6"
  }
 },
 "nbformat": 4,
 "nbformat_minor": 0
}
