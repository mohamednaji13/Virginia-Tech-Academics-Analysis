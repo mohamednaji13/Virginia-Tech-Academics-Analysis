{
 "cells": [
  {
   "cell_type": "markdown",
   "metadata": {},
   "source": [
    "# Spring 2021 CS 3654 Final Project\n",
    "**Group 15**\n",
    "- Dominic Berry (dberry101010)\n",
    "- Mohamed Naji (mohamedn)\n",
    "- Zaid Al Nouman (zaida)\n",
    "- Daniel Schoenbach (danielschoenbach)"
   ]
  },
  {
   "cell_type": "markdown",
   "metadata": {},
   "source": [
    "## Introduction\n",
    "Virginia Tech is nearly 150 years old.\n",
    "Certainly, its academics have changed over time, evolving with economic demands\n",
    "and equipping students with the necessary skill sets to impact their communities.\n",
    "\n",
    "Where are Virginia Tech academics headed now?\n",
    "Are we becoming more STEM focused?\n",
    "Or are the programs becoming more balanced?\n",
    "What role do job market demands play in these shifts in student enrollment and department staffing?\n",
    "And finally, what other interesting trends can we find in VT academics?\n",
    "\n",
    "To answer these questions, we will explore:\n",
    "- How has enrollment in particular classes changed over time?\n",
    "- Do professors assign higher (or lower) grades than they used to?\n",
    "- Is there a correlation between VT academics and the job market?\n",
    "- Is Virginia Tech becoming more diverse?\n",
    "\n",
    "We will use multiple datasets from the [Virginia Tech University DataCommons](https://udc.vt.edu/),\n",
    "which provides information on courses, undergraduate enrollment, and time to graduation from 2001 to 2020.\n",
    "\n",
    "Additionally, we'll use portions of the [First Destination Report](https://career.vt.edu/about/postgrad-survey/report.html),\n",
    "a survey of recent Virginia Tech graduates."
   ]
  },
  {
   "cell_type": "code",
   "execution_count": null,
   "metadata": {
    "pycharm": {
     "name": "#%%\n"
    }
   },
   "outputs": [],
   "source": [
    "# Initialize the notebook\n",
    "\n",
    "# Import libraries for future use\n",
    "import pandas as pd\n",
    "import numpy as np\n",
    "import matplotlib.pyplot as plt\n",
    "\n",
    "# Set default font size for graphs\n",
    "plt.rcParams.update({'font.size': 14})\n",
    "\n",
    "# Efficiently removes commas from a Series of formatted numbers\n",
    "# in preparation for conversion to a numerical data type\n",
    "# Ex: Series([\"1,500\"]) -> Series([\"1500\"])\n",
    "def strip_commas(series: pd.Series) -> pd.Series:\n",
    "    return series.str.translate(str.maketrans({',': None}))"
   ]
  },
  {
   "cell_type": "markdown",
   "metadata": {},
   "source": [
    "## Data\n",
    "\n",
    "### Virginia Tech University DataCommons\n",
    "Our primary data source is the [University DataCommons](https://udc.vt.edu/about) web application.\n",
    "This web application contains years of information about students, classes, and faculty at VT."
   ]
  },
  {
   "cell_type": "markdown",
   "metadata": {},
   "source": [
    "#### Grade Distributions\n",
    "This dataset contains over 150,000 records of class sessions at Virginia Tech.\n",
    "Fortunately, it was easily exportable from the UDC and requires minimal cleaning.\n",
    "We filter out class numbers 5000 and over because we are focused on undergrads.\n",
    "From this data, we hope to explore trends in subject enrollment and grades.\n",
    "Which subject areas are rising in demand? Which ones are falling?\n",
    "Have grades become inflated? Do instructors' average grades change over time?\n"
   ]
  },
  {
   "cell_type": "code",
   "execution_count": null,
   "metadata": {
    "pycharm": {
     "name": "#%%\n"
    }
   },
   "outputs": [],
   "source": [
    "grade_data = pd.read_csv('data/vt_udc_grades_fall2001_spring2021.zip')\n",
    "grade_data = grade_data[grade_data[\"Course No.\"] < 5000]\n",
    "grade_data.reset_index(drop=True, inplace=True)\n",
    "grade_data"
   ]
  },
  {
   "cell_type": "markdown",
   "metadata": {},
   "source": [
    "#### Undergrad Enrollment\n",
    "\n",
    "This dataset from the UDC contains student enrollment numbers for each department and year.\n",
    "Although the data requires little cleaning, we still need to convert formatted numbers (e.g. \"1,500\") to integers.\n",
    "After that, we filter out departments with fewer than 100 enrollments to remove defunct, administrative,\n",
    "and graduate-level organizations.\n",
    "Doing so leaves us with numbers for 65 different departments to study trends in enrollment."
   ]
  },
  {
   "cell_type": "code",
   "execution_count": null,
   "metadata": {
    "pycharm": {
     "name": "#%%\n"
    }
   },
   "outputs": [],
   "source": [
    "undergrad_enrollment = pd.read_csv('data/vt_udc_fall_undergrad_enrollment_2011_2020.csv')\n",
    "undergrad_enrollment.index = undergrad_enrollment[\"Departments\"]\n",
    "undergrad_enrollment.drop(\"Departments\", axis=1, inplace=True)\n",
    "undergrad_enrollment = undergrad_enrollment.apply(lambda x: strip_commas(x).astype(int))\n",
    "undergrad_enrollment = undergrad_enrollment[undergrad_enrollment.sum(axis=1) >= 100]\n",
    "undergrad_enrollment"
   ]
  },
  {
   "cell_type": "markdown",
   "metadata": {
    "pycharm": {
     "name": "#%% md\n"
    }
   },
   "source": [
    "#### Freshmen Time to Degree\n",
    "\n",
    "This dataset from the UDC contains the number of academic years for entering freshmen to graduate.\n",
    "Like the other UDC datasets, it needs little cleaning."
   ]
  },
  {
   "cell_type": "code",
   "execution_count": null,
   "metadata": {
    "pycharm": {
     "name": "#%%\n"
    }
   },
   "outputs": [],
   "source": [
    "freshmen_time_to_degree = pd.read_csv('data/vt_udc_freshman_timetodegree_fall2010_spring2021.csv')\n",
    "freshmen_time_to_degree.index = freshmen_time_to_degree[\"Departments\"]\n",
    "freshmen_time_to_degree.drop(\"Departments\", axis=1, inplace=True)\n",
    "freshmen_time_to_degree"
   ]
  },
  {
   "cell_type": "markdown",
   "metadata": {},
   "source": [
    "### First Destination After Undergraduate Degree\n",
    "\n",
    "Virginia Tech Career and Professional Development conducts a survey\n",
    "of new graduates, known as the [First Destination Report](https://career.vt.edu/about/postgrad-survey/report.html)."
   ]
  },
  {
   "cell_type": "markdown",
   "metadata": {},
   "source": [
    "#### Salary\n",
    "\n",
    "This dataset, compiled from several years of reports, contains new graduate employment rates and salaries.\n",
    "The data was scraped using the accompanying `Salary_Scraping.ipynb` notebook.\n",
    "We combine the yearly reports into a single dataset, converting percentages to decimals as we do."
   ]
  },
  {
   "cell_type": "code",
   "execution_count": null,
   "metadata": {
    "pycharm": {
     "name": "#%%\n"
    }
   },
   "outputs": [],
   "source": [
    "# Loads all the salary data into a single dataframe\n",
    "salary_data = pd.DataFrame(columns=['College/Major'])\n",
    "for i in range(2014, 2020):\n",
    "    current = pd.read_csv(f'data/s_{i}-{i+1}.csv')\n",
    "    current['College/Major'] = current['College/Major'].str.replace('&', 'and')\n",
    "    current.index = current['College/Major']\n",
    "    current = current.loc[:, ['Median']]\n",
    "    # Fill na with column means\n",
    "    current['Median'].fillna(np.mean(current['Median']), inplace = True)\n",
    "    salary_data = pd.merge(salary_data, current, on='College/Major', how='outer')\n",
    "\n",
    "salary_data.columns = ['College/Major', '1', '2','3','4','5','6']\n",
    "\n",
    "salary_data"
   ]
  },
  {
   "cell_type": "markdown",
   "metadata": {},
   "source": [
    "## Analysis\n",
    "\n",
    "### How have GPAs changed over time?\n",
    "#### University GPAs by semester\n",
    "\n",
    "To answer this, we collect each term's classes and make a weighted average based on enrollment."
   ]
  },
  {
   "cell_type": "code",
   "execution_count": null,
   "metadata": {
    "pycharm": {
     "name": "#%%\n"
    }
   },
   "outputs": [],
   "source": [
    "avg_gpa = grade_data[grade_data['Term'].isin(['Spring', 'Fall'])] \\\n",
    "    .groupby(['Academic Year', 'Term'], as_index=False) \\\n",
    "    .apply(lambda x: (x['GPA'] * x['Enrollment']).sum() / x['Enrollment'].sum())\n",
    "avg_gpa.rename(columns={None:'GPA'}, inplace=True)\n",
    "spring_gpa = avg_gpa[avg_gpa['Term'] == 'Spring']\n",
    "fall_gpa = avg_gpa[avg_gpa['Term'] == 'Fall']\n",
    "plt.figure(figsize=(15,10))\n",
    "plt.xlabel(\"Academic Year\")\n",
    "plt.ylabel(\"GPA\")\n",
    "plt.title(\"University GPA from 2001-2021\")\n",
    "plt.xticks(rotation = 90)\n",
    "plt.plot(spring_gpa['Academic Year'],spring_gpa['GPA'],marker='o',label='Spring')\n",
    "plt.plot(fall_gpa['Academic Year'],fall_gpa['GPA'],marker='o',label='Fall')\n",
    "plt.legend()"
   ]
  },
  {
   "cell_type": "code",
   "execution_count": null,
   "metadata": {
    "pycharm": {
     "name": "#%%\n"
    }
   },
   "outputs": [],
   "source": [
    "print(\"GPA during 2001-02: \",round(avg_gpa['GPA'].iloc[0:2].mean(),3))\n",
    "print(\"GPA during 2020-21: \",round(avg_gpa['GPA'].iloc[-1],3))\n",
    "print(\"Increase: \", round(avg_gpa['GPA'].iloc[-1:].mean() - avg_gpa['GPA'].iloc[0:2].mean(), 3))\n",
    "print(\"Max: \", round(avg_gpa['GPA'].max(), 3), \"in\", *avg_gpa.loc[avg_gpa['GPA'].idxmax(), ['Term', 'Academic Year']])\n",
    "print(\"Min: \", round(avg_gpa['GPA'].min(), 3), \"in\", *avg_gpa.loc[avg_gpa['GPA'].idxmin(), ['Term', 'Academic Year']])"
   ]
  },
  {
   "cell_type": "markdown",
   "metadata": {},
   "source": [
    "As shown in the plot, the average GPA has increased over the years by .38 points,\n",
    "beginning at 2.98 in 2001-02 and ending at 3.36 in 2020-21.\n",
    "This is a very clear trend that the average assigned grade has risen over time.\n",
    "\n",
    "Further, three semesters stand out as having elevated GPAs: Spring 2007, Spring 2020, and Fall 2020.\n",
    "We suspect these GPA bumps are a result of instructors granting extra leniency\n",
    "during the notable events corresponding with these terms:\n",
    "- Spring 2007 was the Virginia Tech shooting\n",
    "- Spring 2020 was the start of the COVID-19 pandemic and was the transition from in person to online classes\n",
    "- Fall 2020 was held largely online during the COVID-19 pandemic"
   ]
  },
  {
   "cell_type": "markdown",
   "metadata": {
    "pycharm": {
     "name": "#%% md\n"
    }
   },
   "source": [
    "#### Subject GPAs\n",
    "\n",
    "To keep the number of subjects manageable, we will only consider subjects\n",
    "with at least 10,000 enrollments across our dataset.\n",
    "Each subject is assigned a color based off its initial position\n",
    "to illustrate changes over time."
   ]
  },
  {
   "cell_type": "code",
   "execution_count": null,
   "metadata": {
    "pycharm": {
     "name": "#%%\n"
    }
   },
   "outputs": [],
   "source": [
    "subject_enrollment = grade_data.groupby('Subject')['Enrollment'].sum()\n",
    "subject_gpas = grade_data[grade_data['Subject'].isin(subject_enrollment.index[subject_enrollment >= 10000])] \\\n",
    "    .groupby(['Subject','Academic Year'], as_index=False) \\\n",
    "    .apply(lambda x: (x['GPA'] * x['Enrollment']).sum() / x['Enrollment'].sum())\n",
    "subject_gpas.rename(columns={None:'GPA'}, inplace=True)\n",
    "\n",
    "subjects = subject_gpas[subject_gpas['Academic Year']==\"2001-02\"].sort_values('GPA')['Subject']\n",
    "color_map = plt.get_cmap('viridis')\n",
    "subject_color_map = {}\n",
    "\n",
    "def plot_subject_gpas(year):\n",
    "    plt.figure(figsize=(20,10))\n",
    "    plt.xlabel(\"Subject\", size=14)\n",
    "    plt.ylabel(\"Average GPA\", size=14)\n",
    "    plt.title(f\"Subject GPA ({year}-{year+1})\")\n",
    "    plt.xticks(rotation=90)\n",
    "    plt.ylim(2.5,4)\n",
    "    df = subject_gpas[subject_gpas['Academic Year']==f\"{year}-{str(year+1)[-2:]}\"]\n",
    "    df = df.sort_values(\"GPA\")\n",
    "    subject_color_map.update({subj:color_map(idx/(len(df))) for idx, subj in enumerate(df['Subject']) if subj not in subject_color_map})\n",
    "    plt.bar(df['Subject'],df['GPA'],color=[subject_color_map[x] for x in df['Subject']])\n",
    "\n",
    "plot_subject_gpas(2001)\n",
    "plot_subject_gpas(2005)\n",
    "plot_subject_gpas(2010)\n",
    "plot_subject_gpas(2015)\n",
    "plot_subject_gpas(2020)"
   ]
  },
  {
   "cell_type": "markdown",
   "metadata": {},
   "source": [
    "From these graphs we can see a few interesting trends:\n",
    "1. The overall increase in GPAs we saw earlier can also be seen here.\n",
    "1. Most subject GPAs shift around, drifting higher and lower year to year.\n",
    "1. However, a few core subjects stay fixed. For example, MATH consistently has some of the lowest GPAs.\n",
    "\n",
    "### Which classes are hardest?\n",
    "\n",
    "One straightforward measure is how many students, on average, fail a particular class.\n",
    "We'll focus on classes that had at least 100 students enrolled over the past 20 years,\n",
    "filtering out experimental, special study, and other unusual classes."
   ]
  },
  {
   "cell_type": "code",
   "execution_count": null,
   "metadata": {
    "pycharm": {
     "name": "#%%\n"
    }
   },
   "outputs": [],
   "source": [
    "#Creating a dataframe of subjects with over 100 people enrolled in the past 20 years\n",
    "enrol_over_100 = grade_data.groupby('Course Title', as_index=False).agg({\"Enrollment\": \"sum\"})\n",
    "enrol_over_100 = enrol_over_100[enrol_over_100['Enrollment']>100]\n",
    "\n",
    "#Dropping Subjects that did not have more than 100 people enrolled \n",
    "fail = grade_data.groupby(['Course Title'])['F (%)'].mean().reset_index()\n",
    "fail = fail.merge(enrol_over_100, on=['Course Title'], how='inner')\n",
    "\n",
    "#Finding the 20 highest fail percentages \n",
    "fail = fail.sort_values(['F (%)'])\n",
    "fail = fail.tail(15)\n",
    "\n",
    "#plotting the subjects with the highest fail percentages\n",
    "plt.figure(figsize=(20,10))\n",
    "plt.title(\"Classes with Highest Fail Percentage\")\n",
    "plt.xlabel(\"Class\")\n",
    "plt.ylabel(\"Fail Percentage\")\n",
    "plt.xticks(rotation = 90)\n",
    "plt.bar(fail['Course Title'], fail['F (%)'])"
   ]
  },
  {
   "cell_type": "code",
   "execution_count": null,
   "metadata": {
    "pycharm": {
     "name": "#%%\n"
    }
   },
   "outputs": [],
   "source": [
    "max_fail = max(fail['F (%)'])\n",
    "max_class= fail[fail['F (%)']==max_fail]['Course Title'].values[0]\n",
    "\n",
    "print(\"The hardest class at Virginia Tech is: \", max_class)\n",
    "print(\"The fail percentage is: \", max_fail)"
   ]
  },
  {
   "cell_type": "markdown",
   "metadata": {},
   "source": [
    "As shown by the bar graph above, most of the harder classes offered at Virginia Tech are STEM related.\n",
    "Out of subjects that have had more than 100 people enrolled in the past 20 years,\n",
    "the hardest classes at Virginia Tech based on Fail Percentage is Rock Mech & Grnd Cntl\n",
    "which has a 14.21% failure rate."
   ]
  },
  {
   "cell_type": "markdown",
   "metadata": {},
   "source": [
    "### Do students choose majors based on money?\n",
    "\n",
    "Using the salary information from the First Destination Report,\n",
    "we can check for a correlation between program enrollment and salary after graduation."
   ]
  },
  {
   "cell_type": "code",
   "execution_count": null,
   "metadata": {
    "pycharm": {
     "name": "#%%\n"
    }
   },
   "outputs": [],
   "source": [
    "average_enrollment = pd.DataFrame({\n",
    "    'College/Major': undergrad_enrollment.index,\n",
    "    'Average Enrollment': undergrad_enrollment.loc[:, \"2014-15\":\"2019-20\"].mean(axis=1)\n",
    "})\n",
    "\n",
    "#find mean salary from 2014-2020\n",
    "col = salary_data.loc[: , \"1\":\"6\"]\n",
    "salary_data['Average Salary'] = col.mean(axis=1)\n",
    "average_salary = salary_data.filter(['College/Major', \"Average Salary\"])\n",
    "#merge dataframes based on instersecting majors\n",
    "salary_vs_enrollment = average_enrollment.merge(average_salary, how = 'inner', on = ['College/Major'])\n",
    "\n",
    "#create scatter plot\n",
    "plt.figure(figsize=(15,10))\n",
    "plt.scatter(salary_vs_enrollment['Average Salary'],salary_vs_enrollment['Average Enrollment'],s=(salary_vs_enrollment[\"Average Salary\"]/100)+5, alpha=.4)\n",
    "plt.xlabel(\"Average Salary\")\n",
    "plt.ylabel(\"Average Enrollment\")\n",
    "plt.title(\"Average Income vs Enrollment in Major (2014-20)\")"
   ]
  },
  {
   "cell_type": "code",
   "execution_count": null,
   "metadata": {
    "pycharm": {
     "name": "#%%\n"
    }
   },
   "outputs": [],
   "source": [
    "#find correlation coefficient\n",
    "xbar = np.mean(salary_vs_enrollment['Average Salary'])\n",
    "ybar = np.mean(salary_vs_enrollment['Average Enrollment'])\n",
    "xi = salary_vs_enrollment['Average Salary']\n",
    "yi = salary_vs_enrollment['Average Enrollment']\n",
    "r = np.sum((xi - xbar)*(yi-ybar))/(np.sqrt(np.sum(np.square(xi-xbar)))*np.sqrt(np.sum(np.square(yi-ybar))))\n",
    "print(\"The correlation coefficient is: \", r)"
   ]
  },
  {
   "cell_type": "markdown",
   "metadata": {},
   "source": [
    "Based on the scatter plot and very small correlation coefficient, no conclusion can be drawn on the correlation between average salary and enrollment within a major. However, there is some uncertainty within these results due to a lack of data. Only  majors that overlapped in both the salary data and enrollment data were used, of which there were only thirty. The average of salary and enrollments were used for those not reported."
   ]
  },
  {
   "cell_type": "markdown",
   "metadata": {},
   "source": [
    "### Does time spent teaching at Tech affect assigned grades?\n",
    "\n",
    "First, we'll try associating courses with how many years the instructor has been teaching at Tech."
   ]
  },
  {
   "cell_type": "code",
   "execution_count": null,
   "metadata": {
    "pycharm": {
     "name": "#%%\n"
    }
   },
   "outputs": [],
   "source": [
    "# Group by year, make a set of the Teachers' Names, then do a dictionary of teachers by year\n",
    "teachersByYear = {}\n",
    "for i in range(len(list(grade_data.groupby(\"Academic Year\")[\"Instructor\"]))):\n",
    "    setOfTeachers = set()\n",
    "    for teacher in list(grade_data.groupby(\"Academic Year\")[\"Instructor\"])[i][1]:\n",
    "        setOfTeachers.add(teacher)\n",
    "    teachersByYear[list(grade_data.groupby(\"Academic Year\")[\"Instructor\"])[i][0]] = setOfTeachers"
   ]
  },
  {
   "cell_type": "code",
   "execution_count": null,
   "metadata": {
    "pycharm": {
     "name": "#%%\n"
    }
   },
   "outputs": [],
   "source": [
    "# Now we take that and add a column for the year they started teaching\n",
    "modified_grade_data = grade_data.copy().iloc[:, 5:14]\n",
    "\n",
    "# Calculate how many years each teacher has taught\n",
    "teachers = [x for x in teachersByYear.values()]\n",
    "teacherYears = {}\n",
    "for i in range(len(teachers)):\n",
    "    for teacher in teachers[i]:\n",
    "        if teacher in teacherYears:\n",
    "            teacherYears[teacher] += 1\n",
    "        else:\n",
    "            teacherYears[teacher] = 1\n",
    "\n",
    "# Ok, add column...\n",
    "modified_grade_data[\"Total Years Taught\"] = None\n",
    "for i in range(len(modified_grade_data[\"Instructor\"])):\n",
    "    modified_grade_data[\"Total Years Taught\"].iat[i] = teacherYears[modified_grade_data[\"Instructor\"][i]]"
   ]
  },
  {
   "cell_type": "code",
   "execution_count": null,
   "metadata": {
    "pycharm": {
     "name": "#%%\n"
    }
   },
   "outputs": [],
   "source": [
    "plt.figure(figsize=(15,7))\n",
    "plt.scatter(modified_grade_data[\"Total Years Taught\"], modified_grade_data[\"GPA\"], alpha=0.005)\n",
    "plt.title('Course Grades by Instructors\\' Years Teaching')\n",
    "plt.xlabel('Years Teaching at Tech')\n",
    "plt.ylabel('Course GPA')"
   ]
  },
  {
   "cell_type": "markdown",
   "metadata": {},
   "source": [
    "There does not seem to be much correlation.\n",
    "This suggests, at least, that teachers are not being selected based on a history\n",
    "of consistently assigning higher or lower grades.\n",
    "If that were the case, we would see an upper or lower bias on the right side of the graph.\n",
    "\n",
    "Our first analysis considered each teacher's early classes equivalent to their later ones.\n",
    "Of course, at the time of each class, the teacher had not been at Tech for their present duration.\n",
    "\n",
    "We now associate course grades with the number of years\n",
    "the instructor had been teaching at Tech, *at the time of the course*."
   ]
  },
  {
   "cell_type": "code",
   "execution_count": null,
   "metadata": {
    "pycharm": {
     "name": "#%%\n"
    }
   },
   "outputs": [],
   "source": [
    "# What about getting the years taught until this point?\n",
    "# Current Year - Start Year?\n",
    "# Does not account for the teachers who leave for a little bit and come back\n",
    "# but we will consider that to be negligable\n",
    "\n",
    "def firstYear(t):\n",
    "    for year in range(len(teachersByYear)):\n",
    "        if t in list(teachersByYear.values())[year]:\n",
    "            return year + 2001\n",
    "firstYear(\"Duncan\")\n",
    "\n",
    "modified_grade_data[\"Started Teaching\"] = None\n",
    "for i in range(len(modified_grade_data[\"Instructor\"])):\n",
    "    modified_grade_data[\"Started Teaching\"].iat[i] = firstYear(modified_grade_data[\"Instructor\"][i])\n",
    "\n",
    "modified_grade_data[\"Academic Year\"] = grade_data[\"Academic Year\"].apply(lambda x: x[:-3])\n",
    "modified_grade_data[\"Academic Year\"] = modified_grade_data[\"Academic Year\"].apply(lambda x: int(x))\n",
    "modified_grade_data[\"Started Teaching\"] = modified_grade_data[\"Started Teaching\"].apply(lambda x: int(x))\n",
    "\n",
    "modified_grade_data[\"Taught So Far\"] = modified_grade_data[\"Academic Year\"] - modified_grade_data[\"Started Teaching\"]\n",
    "\n",
    "plt.figure(figsize=(15,7))\n",
    "plt.scatter(modified_grade_data[\"Taught So Far\"], modified_grade_data[\"GPA\"], alpha=0.005)\n",
    "plt.title('Course Grades by Instructors\\' Years Teaching (at time of course)')\n",
    "plt.xlabel('Years at Tech at Time of Course')\n",
    "plt.ylabel('Course GPA')"
   ]
  },
  {
   "cell_type": "code",
   "execution_count": null,
   "metadata": {
    "pycharm": {
     "name": "#%%\n"
    }
   },
   "outputs": [],
   "source": [
    "print(\"Correlation:\", modified_grade_data[\"Taught So Far\"].corr(modified_grade_data[\"GPA\"]))"
   ]
  },
  {
   "cell_type": "markdown",
   "metadata": {
    "pycharm": {
     "name": "#%% md\n"
    }
   },
   "source": [
    "On the whole, the graph still appears to be uncorrelated; but, we can clearly see a trend in the\n",
    "minimum GPAs based on how long a teacher has been at the school.\n",
    "Over time, instructors seem to assign fewer lower grades than they did at the start of their career."
   ]
  },
  {
   "cell_type": "markdown",
   "metadata": {},
   "source": [
    "### Enrollments and Recessions\n",
    "\n",
    "#### How do recessions affect enrollment?\n",
    "Recessions lead to decreased job growth, and typically job loss, as the labour market's demand for certain professions decrease during economic decline. Let's take a look at how enrollment is impacted by periods of recession, specifically the beginning of the COVID-19 pandemic, to see how a recession might affect Virginia Tech academics. "
   ]
  },
  {
   "cell_type": "code",
   "execution_count": null,
   "metadata": {
    "pycharm": {
     "name": "#%%\n"
    }
   },
   "outputs": [],
   "source": [
    "# enrollments and recessions\n",
    "recent = undergrad_enrollment.iloc[:, :-1]\n",
    "\n",
    "year = [int(y[:-3]) for y in recent.columns]\n",
    "fit = np.polyfit(year, recent.sum().values, 2)\n",
    "equation = np.poly1d(fit)\n",
    "prediction = fit[0] * 2020 ** 2  + fit[1] * 2020 + fit[2]\n",
    "\n",
    "year.append(2020)\n",
    "\n",
    "xmesh = np.linspace(min(year), max(year), 100)\n",
    "\n",
    "#plt.plot(year, recent.sum().values, 'bo', label = \"data\", c=\"red\")\n",
    "plt.plot(xmesh, equation(xmesh), '-b', label='Without 2020')\n",
    "plt.plot(2020, prediction, 'o', label = \"Predicted\", c=\"blue\")\n",
    "\n",
    "# We can predict enrollment for 2020 based on previous years\n",
    "prediction = fit[0] * 2020 ** 2  + fit[1] * 2020 + fit[2]\n",
    "\n",
    "year2 = [int(y[:-3]) for y in undergrad_enrollment.columns]\n",
    "fit = np.polyfit(year2, undergrad_enrollment.sum().values, 2)\n",
    "equation = np.poly1d(fit)\n",
    "\n",
    "xmesh = np.linspace(min(year2), max(year2), 100)\n",
    "\n",
    "plt.plot(xmesh, equation(xmesh), '-', label='With 2020', c=\"green\")\n",
    "plt.plot(year2, undergrad_enrollment.sum().values, 'o', label = \"Actual\", c=\"red\")\n",
    "\n",
    "plt.legend(fontsize=10)\n",
    "plt.xlabel('Year', fontsize=10)\n",
    "plt.ylabel('Undergrad Enrollment', fontsize=10)\n",
    "plt.show()"
   ]
  },
  {
   "cell_type": "markdown",
   "metadata": {},
   "source": [
    "As we can see, enrollment is certainly on the rise, but enrollment in 2020\n",
    "was significantly less than expected, though still greater than the previous year. "
   ]
  },
  {
   "cell_type": "markdown",
   "metadata": {},
   "source": [
    "#### Is GPA affected by recessions?\n",
    "Next, let's take a look at how recessions might affect student grades, if at all. The hypothesis is that during a recession, student's may not perform as well in their classes due to the increased stress a recession may cause, as well as possibly working to help support themselves. "
   ]
  },
  {
   "cell_type": "code",
   "execution_count": null,
   "metadata": {
    "pycharm": {
     "name": "#%%\n"
    }
   },
   "outputs": [],
   "source": [
    "# GPA and recessions\n",
    "y = grade_data.groupby(\"Academic Year\").mean()[\"GPA\"]\n",
    "x = grade_data.groupby(\"Academic Year\").mean().index\n",
    "x = [int(year[:-3]) for year in x]\n",
    "fit = np.polyfit(x, y, 2)\n",
    "equation = np.poly1d(fit)\n",
    "xmesh = np.linspace(min(x), max(x), 100)\n",
    "\n",
    "plt.plot(x, y, 'o', label = \"data\", c=\"red\")\n",
    "plt.plot(xmesh, equation(xmesh), '-b', label='fit')\n",
    "\n",
    "plt.plot([2008, 2020], [y[\"2008-09\"], y[\"2020-21\"]], \"o\", c=\"black\", label=\"Years of Recession\")\n",
    "\n",
    "plt.legend(fontsize=10)\n",
    "plt.xlabel('Year', fontsize=10)\n",
    "plt.ylabel('Average GPA', fontsize=10)\n",
    "plt.show()\n",
    "\n",
    "#2006 and 2019 though...?;''"
   ]
  },
  {
   "cell_type": "markdown",
   "metadata": {},
   "source": [
    "Here it seems that GPAs remained the same through 2008 and 2020. This disproves the hypothesis that students' performance may be impacted by a recession. However, there are multiple factors to consider. For example, the recession in 2020 caused by the pandemic caused courses to switch to an online format. This might have resulted in easier tasks and assessments, as well as increased the number of cheating incidents. It's possible this would offset any decrease in student grade data due to a recession, though more data would be needed to come to any conclusion.\n",
    "\n",
    "This plot also reinforces the previous plot displaying how students' grades on average are rising. "
   ]
  },
  {
   "cell_type": "markdown",
   "metadata": {
    "pycharm": {
     "name": "#%% md\n"
    }
   },
   "source": [
    "### How has course enrollment changed?\n",
    "Let's take a look at which courses have become more popular to gain insight on whether or not Virginia Tech is becoming more or less STEM focused."
   ]
  },
  {
   "cell_type": "code",
   "execution_count": null,
   "metadata": {
    "pycharm": {
     "name": "#%%\n"
    }
   },
   "outputs": [],
   "source": [
    "# How has course specific enrollment changed?\n",
    "\n",
    "group = [\"Academic Year\", \"Course Title\"]\n",
    "grade_data.columns\n",
    "course_enrollment = grade_data.drop(labels=[\"Term\", \"Subject\", \"Course No.\", \"Instructor\", \"GPA\", \"A (%)\",\n",
    "                        \"B (%)\", \"C (%)\", \"D (%)\", \"F (%)\", \"CRN\", \"Credits\"], axis=1)\n",
    "\n",
    "# This data is interesting because it shows which courses gained the most enrollments from 2001 to 2019. \n",
    "course_enrollment_over_time = course_enrollment.groupby(group).sum()\n",
    "(course_enrollment_over_time.loc[\"2019-20\"] - course_enrollment_over_time.loc[\"2001-02\"]).sort_values(by=\"Enrollment\", ascending=False).head(20)"
   ]
  },
  {
   "cell_type": "markdown",
   "metadata": {},
   "source": [
    "We can see from this table that the majority of these courses are STEM focused, with many being hard sciences such as physics and chemistry. From this, we can come to the conclusion that the rise in popularity of these STEM courses is due to the increased enrollment of STEM majors, supporting the argument that Virginia Tech is becoming more STEM focused. The only notable exception is Design Appreciation gaining popularity due to it's asynchronous online availability to a large number of students even before the pandemic. "
   ]
  },
  {
   "cell_type": "markdown",
   "metadata": {},
   "source": [
    "### Is Virginia Tech becoming more diverse in terms of gender?\n",
    "As we've seen, Virginia Tech enrollment is rising every year, and we've seen above that courses in STEM have had their enrollments grow the most since 2001. As more STEM majors enroll at Virginia Tech, diversity becomes an increasingly larger issue, as the field has historically been dominated by white males. Let's take a look into Virginia Tech's efforts to increase diversity to combat this issue."
   ]
  },
  {
   "cell_type": "code",
   "execution_count": null,
   "metadata": {
    "pycharm": {
     "name": "#%%\n"
    }
   },
   "outputs": [],
   "source": [
    "# How has enrollment by gender changed? Data is from \"https://udc.vt.edu/irdata/data/students/enrollment/index\",\n",
    "# with filters for academic year, undergraduates only, for the start of the fall term, male vs female\n",
    "enrollment_by_gender = pd.DataFrame({\n",
    "    \"Male\": [13788, 13957, 14091, 14069, 14577, 14740, 15428, 15779, 16683, 17037],\n",
    "    \"Female\": [9903, 9894, 9933, 10159, 10793, 11024, 11710, 11966, 12534, 12902]\n",
    "}, index=[\"2011-12\", \"2012-13\", \"2013-14\", \"2014-15\", \"2015-16\", \"2016-17\", \"2017-18\", \"2018-19\", \"2019-20\", \"2020-21\"])\n",
    "\n",
    "# Could someone plot these as two lines on the same line plot to show their growth with respect to each other?\n",
    "male_enrollment_growth = enrollment_by_gender[\"Male\"].iloc[9] - enrollment_by_gender[\"Male\"].iloc[0]\n",
    "male_growth_percentage = ((enrollment_by_gender[\"Male\"].iloc[9] / enrollment_by_gender[\"Male\"].iloc[0]) - 1) * 100\n",
    "female_enrollment_growth = enrollment_by_gender[\"Female\"].iloc[9] - enrollment_by_gender[\"Female\"].iloc[0]\n",
    "female_growth_percentage = ((enrollment_by_gender[\"Female\"].iloc[9] / enrollment_by_gender[\"Female\"].iloc[0]) - 1) * 100\n",
    "print(f\"Percent growth in enrollments of males between 2011 to 2020: {round(male_growth_percentage, 2)}\")\n",
    "print(f\"Growth in enrollments of males between 2011 to 2020: {male_enrollment_growth}\")\n",
    "print(f\"Percent growth in enrollments of females between 2011 to 2020: {round(female_growth_percentage, 2)}\")\n",
    "print(f\"Growth in enrollments of females between 2011 to 2020: {female_enrollment_growth}\")\n",
    "enrollment_by_gender"
   ]
  },
  {
   "cell_type": "markdown",
   "metadata": {},
   "source": [
    "We can see that, though the percentage growth of female enrollments is greater than the percentage growth of male enrollments, enrollments of men greatly outnumbers enrollments of women. \n",
    "\n",
    "### Is Virginia Tech becoming more diverse in terms of race / ethnicity?\n",
    "\n",
    "Now let's take a look at Virginia Tech's enrollments based race / ethnicity."
   ]
  },
  {
   "cell_type": "code",
   "execution_count": null,
   "metadata": {
    "pycharm": {
     "name": "#%%\n"
    }
   },
   "outputs": [],
   "source": [
    "# How has enrollment by gender changed? Data is from \"https://udc.vt.edu/irdata/data/students/enrollment/index\",\n",
    "# with filters for academic year, undergraduates only, for the start of the fall term, by Race / Ethnicity\n",
    "\n",
    "enrollment_by_ethnicity = pd.DataFrame({\n",
    "    \"American Indian or Alaska Native\": [57, 48, 38, 37, 37, 43, 39, 34, 36, 36],\n",
    "    \"Asian\": [1921, 2000, 2030, 2225, 2367, 2573, 2670, 2740, 2997, 3325],\n",
    "    \"Black or African American\": [879, 824, 834, 873, 952, 1022, 1087, 1173, 1244, 1458],\n",
    "    \"Hispanics of any race\": [1035, 1146, 1226, 1282, 1389, 1533, 1635, 1792, 1985, 2318],\n",
    "    \"Native Hawaiian or Other Pacific Islander\": [15, 23, 31, 32, 26, 32, 32, 31, 30, 35],\n",
    "    \"White\": [17741, 17445, 17214, 16872, 17167, 17137, 17925, 18119, 18856, 18834],\n",
    "    \"Two or more races\": [612, 844, 966, 1041, 1131, 1156, 1211, 1337, 1418, 1516],\n",
    "    \"Not Reported\": [824, 723, 706, 764, 814, 755, 797, 705, 726, 759],\n",
    "    \"Nonresident Alien\": [616, 806, 989, 1121, 1501, 1540, 1797, 1880, 2008, 1739]\n",
    "}, index=[\"2011-12\", \"2012-13\", \"2013-14\", \"2014-15\", \"2015-16\", \"2016-17\", \"2017-18\", \"2018-19\", \"2019-20\", \"2020-21\"])\n",
    "\n",
    "# Could someone plot these as 9 lines on the same line plot? Possibly with overall university enrollment\n",
    "# as another line to compare the rate of increase compared to the university's?\n",
    "enrollment_by_ethnicity"
   ]
  },
  {
   "cell_type": "markdown",
   "metadata": {},
   "source": [
    "Based off the following trends, we can see that though enrollment of white students hasn't changed much within the last decade, the enrollment of Hispanics of any race has more than doubled, and the enrollment of Black or African American and Asian students has also increased dramatically. "
   ]
  },
  {
   "cell_type": "markdown",
   "metadata": {
    "pycharm": {
     "name": "#%% md\n"
    }
   },
   "source": [
    "## Conclusion\n",
    "\n",
    "Overall, we can see that overall undergraduate GPAs have increased at a consistent rate over time, and that as professors continue teaching, they assign fewer low grades. We also saw some spikes in undergraduate GPAs that can be attributed to the 2007 Virginia Tech shooting or the COVID-19 pandemic. Though overall GPAs increased, some GPAs by subject remained consistent relative to each other, such as MATH consistently being a subject with the lowest grades given for the last 20 years. We couldn't draw a conclusion to determine if students chose their major based on average salary after graduation, though we were able to observe an increase of enrollments within STEM related intro courses such as Chemistry, Physics, and Biology. Finally, we saw that Virginia Tech has made an effort to increase diversity, and has doubled enrollment of Hispanics of any race, and increased enrollment of Asians and Black or African American students by a large amount.\n",
    "\n",
    "There's definitely been a slight shift towards STEM in the world and at Virginia Tech, and as its student body continues to grow, so will the number of skilled STEM professionals entering the world."
   ]
  },
  {
   "cell_type": "markdown",
   "metadata": {},
   "source": [
    "## Credits\n",
    "\n",
    "#### Part 1 Contributions\n",
    "- Dominic Berry assisted with guidance and data cleaning.\n",
    "- Mohamed Naji scraped and compiled the salary data.\n",
    "- Zaid Al Nouman helped guide the research questions and did data cleaning.\n",
    "- Daniel Schoenbach drafted additional document pieces and did data cleaning.\n",
    "\n",
    "#### Part 2 Contributions\n",
    "- Dominic Berry worked on teacher and recession analysis.\n",
    "- Mohamed Naji worked on GPA and salary analysis.\n",
    "- Zaid Al Nouman scraped graduate plans and worked on enrollment questions.\n",
    "- Daniel Schoenbach edited and compiled the pieces.\n",
    "\n",
    "#### Part 3 Contributions\n",
    "- Dominic Berry and Mohamed Naji fleshed out the analysis.\n",
    "- Zaid Al Nouman and Daniel Schoenbach edited and polished the final report. "
   ]
  }
 ],
 "metadata": {
  "kernelspec": {
   "display_name": "Python 3",
   "language": "python",
   "name": "python3"
  },
  "language_info": {
   "codemirror_mode": {
    "name": "ipython",
    "version": 3
   },
   "file_extension": ".py",
   "mimetype": "text/x-python",
   "name": "python",
   "nbconvert_exporter": "python",
   "pygments_lexer": "ipython3",
   "version": "3.8.5"
  }
 },
 "nbformat": 4,
 "nbformat_minor": 1
}
